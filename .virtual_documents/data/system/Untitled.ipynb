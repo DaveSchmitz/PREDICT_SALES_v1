nbrs = [[10, 20, 30], [1, 2, 3], [5, 50, 5], [0, 3, 6, 9]]
strs = ["apple", "banana", "pear", "banana", "grape"]
rtn = [num for lst in nbrs if sum(lst) <= 50 for num in lst if num < 5]
print(rtn)



print([z+1 for i in nbrs if sum(i) <100 for z in [y +10 i]])


def elements_of_freedom(elements):
    # Your solution here
    
    # Step 1: Filter elements with length >= 5
    rtn = [n for n in elements if len(n) >= 5]
    # Step 2: Convert filtered elements to uppercase
    rtn = [n.upper() for n in rtn]
    # Step 3: Create a list of unique elements
    rtn = list(set(rtn))
    # Step 4: Return the final result
    return rtn


print(elements_of_freedom(strs))


lst = list(map(str.title,strs))
print(lst)


numbers = [1,2,3,4,5,6]
numbers2 = [1,2,3,4,5,6]
numbers3 = [1,2,3,4,5,6]





print(list(map(lambda s:s*3,numbers)))


print(list(map(lambda x,y,z:x+y+z,numbers,numbers2,numbers3)))


print(list(map(list,strs)))


base = [1,2,3]
exp = [0,1,2]
print(list(map(lambda a,b: a**b,base,exp)))


print(list(map(lambda a:a*a,numbers)))
print(list(map(lambda x: x ** 2, numbers)))


print(list(map(str.upper,strs)))


print(list(map(lambda a:'Hello_' + a,strs)))



print(list(map(len,strs)))


str2 = ["apple ", " banana", " pear ", "banana", "  grape  "]

print(list(map(str.strip,str2)))



print([x * 3 for x in numbers])


print(list(map(lambda s:s*s,numbers)))



