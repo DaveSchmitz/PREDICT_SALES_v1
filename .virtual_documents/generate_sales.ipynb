import pandas as pd
import numpy as np
from datetime import timedelta

# Constants
N_ITEMS = 2500
N_CLASSES = 100
N_DEPTS = 10
START_DATE = pd.to_datetime("today").normalize() - pd.DateOffset(years=4)
END_DATE = pd.to_datetime("today").normalize()
DATES = pd.date_range(start=START_DATE, end=END_DATE, freq='W-SAT')  # Weekly data, ending on Saturday

# Normalize dates to remove any time component
DATES = DATES.normalize()



# Generate items
item_codes = ['STYCOL{0:06d}'.format(i) for i in range(1, N_ITEMS + 1)]
classes = ['C{0:06d}'.format(i) for i in np.random.randint(1, N_CLASSES + 1, N_ITEMS)]
departments = ['D{0:06d}'.format(i) for i in np.random.randint(1, N_DEPTS + 1, N_ITEMS)]
seasons = np.random.choice(['BASIC', 'SPRING', 'FALL'], size=N_ITEMS, p=[0.5, 0.25, 0.25])

items = pd.DataFrame({
    'Item': item_codes,
    'Class': classes,
    'Dept': departments,
    'Season': seasons
})

# Ensure each department follows similar seasonal patterns
dept_season_mapping = {f'D{d:06d}': np.random.choice(['BASIC', 'SPRING', 'FALL']) for d in range(1, N_DEPTS + 1)}
items['Season'] = items['Dept'].map(dept_season_mapping)



def generate_sales(item, dates):
    # Basic parameters
    total_weeks = len(dates)
    sales = np.zeros(total_weeks, dtype=float)
    
    # Define phases for seasonal items
    if item['Season'] in ['SPRING', 'FALL']:
        # Randomly determine the start week for introduction phase
        intro_start = np.random.randint(0, total_weeks//4)  # Start within the first quarter of the period
        intro_duration = np.random.randint(2, 4)  # 2-3 weeks introduction
        growth_duration = np.random.randint(3, 6)  # 3-5 weeks growth
        mature_duration = np.random.randint(10, 16)  # 10-15 weeks maturity
        decline_start = intro_start + intro_duration + growth_duration + mature_duration
        decline_duration = total_weeks - decline_start
        
        # Base sales level and peak sales level
        base_sales = np.random.randint(50, 150)
        peak_sales = np.random.randint(450, 1500)
        
        # Calculate phases
        intro_growth = np.linspace(base_sales, peak_sales, intro_duration)
        growth_phase = np.linspace(peak_sales, peak_sales, growth_duration)
        maturity_phase = np.full(mature_duration, peak_sales)
        decline_phase = np.linspace(peak_sales, base_sales, decline_duration)
        
        # Assign phases to the sales array
        sales[intro_start:intro_start+intro_duration] = intro_growth
        sales[intro_start+intro_duration:intro_start+intro_duration+growth_duration] = growth_phase
        sales[intro_start+intro_duration+growth_duration:intro_start+intro_duration+growth_duration+mature_duration] = maturity_phase
        sales[decline_start:decline_start+decline_duration] = decline_phase

    elif item['Season'] == 'BASIC':
        # Steady sales with slight fluctuations
        base_sales = np.random.randint(200, 1000)
        sales[:] = base_sales
        fluctuations = np.random.normal(0, base_sales * 0.1, total_weeks)
        sales += fluctuations

    # Random week-to-week variability
    variability = np.random.normal(0, 50, total_weeks)
    sales += variability

    # Apply Christmas bump for all items
    if not isinstance(dates, pd.DatetimeIndex):
        dates = pd.DatetimeIndex(dates)
    christmas_period = (dates.month == 12) & ((dates.day > 10) & (dates.day < 26))
    sales[christmas_period] *= np.random.uniform(1.5, 3.0, size=np.sum(christmas_period))

    # Ensure all sales numbers are positive and realistic
    sales = np.clip(sales, 50, None)
    
    return np.round(sales).astype(int)  # Convert to int at the end after all calculations

# Example usage
dates = pd.date_range(start='2020-01-01', periods=52, freq='W-SAT')  # One year of weekly data
item = {'Item': 'Example Item', 'Season': 'BASIC'}
sales = generate_sales(item, dates)


import matplotlib.pyplot as plt
plt.figure(figsize=(14, 7))
plt.plot(dates, sales, label='Sales')
plt.title(f'Sales Over Time for {item["Item"]} ({item["Season"]})')
plt.xlabel('Date')
plt.ylabel('Sales')
plt.grid(True)
plt.legend()
plt.show()


# Create DataFrame
sales_records = [{'Date': date, 'Item': item, 'Sales': sales, 'Class': items.at[index, 'Class'], 'Dept': items.at[index, 'Dept']} 
                 for index, item in enumerate(sales_data) 
                 for date, sales in zip(DATES, sales_data[item])]

df_sales = pd.DataFrame(sales_records)
df_sales.to_csv('department_store_sales.csv', index=False)
print("Dataset generated and saved successfully.")



import matplotlib.pyplot as plt
# Select 10 random items
random_items = np.random.choice(df_sales['Item'].unique(), 6, replace=False)

# Filter the DataFrame for these 10 items
filtered_df = df_sales[df_sales['Item'].isin(random_items)]

# Plotting
fig, ax = plt.subplots(figsize=(10, 6))
for item in random_items:
    item_data = filtered_df[filtered_df['Item'] == item]
    ax.plot(item_data['Date'], item_data['Sales'], label=item)

# Format plot
ax.set_title('Sales Over Time for 10 Random Items')
ax.set_xlabel('Date')
ax.set_ylabel('Sales')
ax.legend(title='Item', bbox_to_anchor=(1.05, 1), loc='upper left')
plt.xticks(rotation=45)
plt.tight_layout()
plt.show()



