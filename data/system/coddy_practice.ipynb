{
 "cells": [
  {
   "cell_type": "code",
   "execution_count": 36,
   "id": "a7c57d46-2028-4e27-9035-5ee33a43a12e",
   "metadata": {},
   "outputs": [
    {
     "name": "stdout",
     "output_type": "stream",
     "text": [
      "[1, 2, 3, 0, 3]\n"
     ]
    }
   ],
   "source": [
    "nbrs = [[10, 20, 30], [1, 2, 3], [5, 50, 5], [0, 3, 6, 9]]\n",
    "strs = [\"apple\", \"banana\", \"pear\", \"banana\", \"grape\"]\n",
    "rtn = [num for lst in nbrs if sum(lst) <= 50 for num in lst if num < 5]\n",
    "print(rtn)\n"
   ]
  },
  {
   "cell_type": "code",
   "execution_count": 27,
   "id": "ffce5e4a-3486-4fc3-a900-ad0965e5581e",
   "metadata": {},
   "outputs": [
    {
     "name": "stdout",
     "output_type": "stream",
     "text": [
      "[11, 21, 31, 2, 3, 4, 6, 51, 6, 1, 4, 7, 10]\n"
     ]
    }
   ],
   "source": [
    "print([z+1 for i in nbrs if sum(i) <100 for z in [y +10 i]])"
   ]
  },
  {
   "cell_type": "code",
   "execution_count": 42,
   "id": "5dcecb40-2c35-4113-9cea-529c70d7f7ea",
   "metadata": {},
   "outputs": [],
   "source": [
    "def elements_of_freedom(elements):\n",
    "    # Your solution here\n",
    "    \n",
    "    # Step 1: Filter elements with length >= 5\n",
    "    rtn = [n for n in elements if len(n) >= 5]\n",
    "    # Step 2: Convert filtered elements to uppercase\n",
    "    rtn = [n.upper() for n in rtn]\n",
    "    # Step 3: Create a list of unique elements\n",
    "    rtn = list(set(rtn))\n",
    "    # Step 4: Return the final result\n",
    "    return rtn"
   ]
  },
  {
   "cell_type": "code",
   "execution_count": 43,
   "id": "badde75d-9bf5-43b9-ab14-b147aa9ca4af",
   "metadata": {},
   "outputs": [
    {
     "name": "stdout",
     "output_type": "stream",
     "text": [
      "['APPLE', 'GRAPE', 'BANANA']\n"
     ]
    }
   ],
   "source": [
    "print(elements_of_freedom(strs))"
   ]
  },
  {
   "cell_type": "code",
   "execution_count": 49,
   "id": "a6a349a3-a241-4de4-a233-57305236632e",
   "metadata": {},
   "outputs": [
    {
     "name": "stdout",
     "output_type": "stream",
     "text": [
      "['Apple', 'Banana', 'Pear', 'Banana', 'Grape']\n"
     ]
    }
   ],
   "source": [
    "lst = list(map(str.title,strs))\n",
    "print(lst)"
   ]
  },
  {
   "cell_type": "code",
   "execution_count": 57,
   "id": "f9dd2961-6ab0-4aea-8960-6aeda75d590b",
   "metadata": {},
   "outputs": [],
   "source": [
    "numbers = [1,2,3,4,5,6]\n",
    "numbers2 = [1,2,3,4,5,6]\n",
    "numbers3 = [1,2,3,4,5,6]"
   ]
  },
  {
   "cell_type": "markdown",
   "id": "7c8c92fc-fd88-43c5-8e3d-b512673c544f",
   "metadata": {},
   "source": [
    "Triple Numbers\n",
    "Write a Python program to triple all numbers in a given list using map()."
   ]
  },
  {
   "cell_type": "code",
   "execution_count": 53,
   "id": "ae597534-a55f-4be5-83e5-3c1a7c8813ec",
   "metadata": {},
   "outputs": [
    {
     "name": "stdout",
     "output_type": "stream",
     "text": [
      "[3, 6, 9, 12, 15, 18]\n"
     ]
    }
   ],
   "source": [
    "print(list(map(lambda s:s*3,numbers)))"
   ]
  },
  {
   "cell_type": "code",
   "execution_count": 59,
   "id": "818e8dbd-83c3-40af-a27d-c3e4a695149f",
   "metadata": {},
   "outputs": [
    {
     "name": "stdout",
     "output_type": "stream",
     "text": [
      "[3, 6, 9, 12, 15, 18]\n"
     ]
    }
   ],
   "source": [
    "print(list(map(lambda x,y,z:x+y+z,numbers,numbers2,numbers3)))"
   ]
  },
  {
   "cell_type": "code",
   "execution_count": 64,
   "id": "f6f17f22-1e69-4319-88bc-27555a6642de",
   "metadata": {},
   "outputs": [
    {
     "name": "stdout",
     "output_type": "stream",
     "text": [
      "[['a', 'p', 'p', 'l', 'e'], ['b', 'a', 'n', 'a', 'n', 'a'], ['p', 'e', 'a', 'r'], ['b', 'a', 'n', 'a', 'n', 'a'], ['g', 'r', 'a', 'p', 'e']]\n"
     ]
    }
   ],
   "source": [
    "print(list(map(list,strs)))"
   ]
  },
  {
   "cell_type": "code",
   "execution_count": 68,
   "id": "5a99c430-a889-41f2-8d62-047d7dc4bbde",
   "metadata": {},
   "outputs": [
    {
     "name": "stdout",
     "output_type": "stream",
     "text": [
      "[1, 2, 9]\n"
     ]
    }
   ],
   "source": [
    "base = [1,2,3]\n",
    "exp = [0,1,2]\n",
    "print(list(map(lambda a,b: a**b,base,exp)))"
   ]
  },
  {
   "cell_type": "code",
   "execution_count": 71,
   "id": "e1e12df0-b7b6-4a02-adc6-72a738d9f4b2",
   "metadata": {},
   "outputs": [
    {
     "name": "stdout",
     "output_type": "stream",
     "text": [
      "[1, 4, 9, 16, 25, 36]\n",
      "[1, 4, 9, 16, 25, 36]\n"
     ]
    }
   ],
   "source": [
    "print(list(map(lambda a:a*a,numbers)))\n",
    "print(list(map(lambda x: x ** 2, numbers)))"
   ]
  },
  {
   "cell_type": "code",
   "execution_count": 73,
   "id": "fd7e1a13-c591-461b-9191-b180d632c65a",
   "metadata": {},
   "outputs": [
    {
     "name": "stdout",
     "output_type": "stream",
     "text": [
      "['APPLE', 'BANANA', 'PEAR', 'BANANA', 'GRAPE']\n"
     ]
    }
   ],
   "source": [
    "print(list(map(str.upper,strs)))"
   ]
  },
  {
   "cell_type": "code",
   "execution_count": 74,
   "id": "84fd6a5a-6456-40ec-b91f-bfd15a86fef6",
   "metadata": {},
   "outputs": [
    {
     "name": "stdout",
     "output_type": "stream",
     "text": [
      "['Hello_apple', 'Hello_banana', 'Hello_pear', 'Hello_banana', 'Hello_grape']\n"
     ]
    }
   ],
   "source": [
    "print(list(map(lambda a:'Hello_' + a,strs)))\n"
   ]
  },
  {
   "cell_type": "code",
   "execution_count": 76,
   "id": "fc8bc59d-f3ad-4d8f-8fe7-afae154f3da3",
   "metadata": {},
   "outputs": [
    {
     "name": "stdout",
     "output_type": "stream",
     "text": [
      "[5, 6, 4, 6, 5]\n"
     ]
    }
   ],
   "source": [
    "print(list(map(len,strs)))"
   ]
  },
  {
   "cell_type": "code",
   "execution_count": 78,
   "id": "922220d1-789e-47de-80aa-82845237031e",
   "metadata": {},
   "outputs": [
    {
     "name": "stdout",
     "output_type": "stream",
     "text": [
      "['apple', 'banana', 'pear', 'banana', 'grape']\n"
     ]
    }
   ],
   "source": [
    "str2 = [\"apple \", \" banana\", \" pear \", \"banana\", \"  grape  \"]\n",
    "\n",
    "print(list(map(str.strip,str2)))\n"
   ]
  },
  {
   "cell_type": "code",
   "execution_count": 79,
   "id": "882bf2f7-4de4-4919-9865-0cfb724c7a71",
   "metadata": {},
   "outputs": [
    {
     "name": "stdout",
     "output_type": "stream",
     "text": [
      "[3, 6, 9, 12, 15, 18]\n"
     ]
    }
   ],
   "source": [
    "print([x * 3 for x in numbers])"
   ]
  },
  {
   "cell_type": "code",
   "execution_count": 84,
   "id": "bcbcdbcc-16a7-4c43-a93f-877f9ea8d5f6",
   "metadata": {},
   "outputs": [
    {
     "name": "stdout",
     "output_type": "stream",
     "text": [
      "[1, 4, 9, 16, 25, 36]\n"
     ]
    }
   ],
   "source": [
    "print(list(map(lambda s:s*s,numbers)))"
   ]
  },
  {
   "cell_type": "code",
   "execution_count": null,
   "id": "cda8cc91-6f3f-4ded-a6d7-0238a3a585be",
   "metadata": {},
   "outputs": [],
   "source": []
  }
 ],
 "metadata": {
  "kernelspec": {
   "display_name": "ml1 env",
   "language": "python",
   "name": "ml1"
  },
  "language_info": {
   "codemirror_mode": {
    "name": "ipython",
    "version": 3
   },
   "file_extension": ".py",
   "mimetype": "text/x-python",
   "name": "python",
   "nbconvert_exporter": "python",
   "pygments_lexer": "ipython3",
   "version": "3.12.2"
  }
 },
 "nbformat": 4,
 "nbformat_minor": 5
}
